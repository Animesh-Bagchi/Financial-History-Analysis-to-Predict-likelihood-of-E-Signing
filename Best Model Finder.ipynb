{
 "cells": [
  {
   "cell_type": "code",
   "execution_count": 4,
   "id": "early-calibration",
   "metadata": {},
   "outputs": [],
   "source": [
    "import pandas as pd\n",
    "import numpy as np\n",
    "import time\n",
    "\n",
    "# We will use Random Forest for Model Building and Grid Search for find the Best Parameters for the Random Forest Model\n",
    "# Importing the required libraries\n",
    "from sklearn.ensemble import RandomForestClassifier\n",
    "from sklearn.model_selection import GridSearchCV\n",
    "\n",
    "# Our Business Use case is a Classification Problem Statement\n",
    "# Importing necessary evaluation metric modules\n",
    "from sklearn.metrics import accuracy_score, confusion_matrix, f1_score, precision_score, recall_score"
   ]
  },
  {
   "cell_type": "code",
   "execution_count": 5,
   "id": "acquired-consortium",
   "metadata": {},
   "outputs": [],
   "source": [
    "# Loading the clean and scaled data into our dataframes\n",
    "X_train = pd.read_csv(\"xtrain.csv\")\n",
    "X_test = pd.read_csv(\"xtest.csv\")\n",
    "y_train = pd.read_csv(\"ytrain.csv\")\n",
    "y_test = pd.read_csv(\"ytest.csv\")"
   ]
  },
  {
   "cell_type": "code",
   "execution_count": 9,
   "id": "diverse-minimum",
   "metadata": {},
   "outputs": [
    {
     "name": "stderr",
     "output_type": "stream",
     "text": [
      "C:\\Users\\91983\\Anaconda3\\lib\\site-packages\\sklearn\\model_selection\\_search.py:880: DataConversionWarning: A column-vector y was passed when a 1d array was expected. Please change the shape of y to (n_samples,), for example using ravel().\n",
      "  self.best_estimator_.fit(X, y, **fit_params)\n"
     ]
    },
    {
     "name": "stdout",
     "output_type": "stream",
     "text": [
      "Time taken for Model Training: 858.0229263305664\n"
     ]
    }
   ],
   "source": [
    "# Creating Random Forest Class Object\n",
    "# We will be creating 100 decision trees\n",
    "classifier = RandomForestClassifier(n_estimators= 100)\n",
    "\n",
    "# Creating Parameter dictionary with experimenting values\n",
    "# We will use Entropy Criterion for this execution\n",
    "param_grid = {\"max_depth\" : [3,None],\n",
    "             \"max_features\" : [4,5,6],\n",
    "             \"min_samples_split\" : [2,5,10],\n",
    "             \"min_samples_leaf\" : [1,5,10],\n",
    "             \"bootstrap\" : [True, False],\n",
    "             \"criterion\" : [\"entropy\"]}\n",
    "\n",
    "\n",
    "# Creating Grid Search Object with required Parameters\n",
    "grid_search = GridSearchCV(estimator= classifier, param_grid= param_grid, scoring= \"accuracy\", cv = 5, n_jobs= -1)\n",
    "\n",
    "# Running Grid Search and Fitting our model to train data\n",
    "start_time = time.time()\n",
    "grid_search = grid_search.fit(X_train, y_train)\n",
    "end_time = time.time()\n",
    "\n",
    "# Evaluating the time take to run through all combinations\n",
    "print(f\"Time taken for Model Training: {end_time - start_time}\")"
   ]
  },
  {
   "cell_type": "code",
   "execution_count": 13,
   "id": "bulgarian-worship",
   "metadata": {},
   "outputs": [
    {
     "name": "stdout",
     "output_type": "stream",
     "text": [
      "0.6345804515600243 {'bootstrap': False, 'criterion': 'entropy', 'max_depth': None, 'max_features': 4, 'min_samples_leaf': 10, 'min_samples_split': 2}\n"
     ]
    }
   ],
   "source": [
    "# Capturing the best features and best score\n",
    "rf_best_score = grid_search.best_score_\n",
    "rf_best_param = grid_search.best_params_\n",
    "\n",
    "print(rf_best_score, rf_best_param)"
   ]
  },
  {
   "cell_type": "code",
   "execution_count": 15,
   "id": "passive-blackjack",
   "metadata": {},
   "outputs": [
    {
     "name": "stderr",
     "output_type": "stream",
     "text": [
      "C:\\Users\\91983\\Anaconda3\\lib\\site-packages\\ipykernel_launcher.py:3: DataConversionWarning: A column-vector y was passed when a 1d array was expected. Please change the shape of y to (n_samples,), for example using ravel().\n",
      "  This is separate from the ipykernel package so we can avoid doing imports until\n"
     ]
    },
    {
     "data": {
      "text/html": [
       "<div>\n",
       "<style scoped>\n",
       "    .dataframe tbody tr th:only-of-type {\n",
       "        vertical-align: middle;\n",
       "    }\n",
       "\n",
       "    .dataframe tbody tr th {\n",
       "        vertical-align: top;\n",
       "    }\n",
       "\n",
       "    .dataframe thead th {\n",
       "        text-align: right;\n",
       "    }\n",
       "</style>\n",
       "<table border=\"1\" class=\"dataframe\">\n",
       "  <thead>\n",
       "    <tr style=\"text-align: right;\">\n",
       "      <th></th>\n",
       "      <th>Model</th>\n",
       "      <th>Accuracy</th>\n",
       "      <th>Precision</th>\n",
       "      <th>Recall</th>\n",
       "      <th>F1 Score</th>\n",
       "    </tr>\n",
       "  </thead>\n",
       "  <tbody>\n",
       "    <tr>\n",
       "      <th>0</th>\n",
       "      <td>Random Forest (n_estimation = 100) Entropy</td>\n",
       "      <td>0.633724</td>\n",
       "      <td>0.645146</td>\n",
       "      <td>0.710062</td>\n",
       "      <td>0.676049</td>\n",
       "    </tr>\n",
       "  </tbody>\n",
       "</table>\n",
       "</div>"
      ],
      "text/plain": [
       "                                        Model  Accuracy  Precision    Recall  \\\n",
       "0  Random Forest (n_estimation = 100) Entropy  0.633724   0.645146  0.710062   \n",
       "\n",
       "   F1 Score  \n",
       "0  0.676049  "
      ]
     },
     "execution_count": 15,
     "metadata": {},
     "output_type": "execute_result"
    }
   ],
   "source": [
    "## Training the instance with hyper parameters selected as Best Param using grid search\n",
    "rand_entropy_best_model = RandomForestClassifier(n_estimators= 100, bootstrap = False, criterion = 'entropy', max_depth = None, max_features = 4, min_samples_leaf = 10, min_samples_split = 2)\n",
    "rand_entropy_best_model.fit(X_train,y_train)\n",
    "\n",
    "# Using trained model to predict our Training Data\n",
    "y_rand_entropy_pred = rand_entropy_best_model.predict(X_test)\n",
    "\n",
    "# Evaluating the performance of our prediction\n",
    "rand_entropy_acc = accuracy_score(y_test, y_rand_entropy_pred)\n",
    "rand_entropy_precision = precision_score(y_test, y_rand_entropy_pred)\n",
    "rand_entropy_recall = recall_score(y_test, y_rand_entropy_pred)\n",
    "rand_entropy_f1 = f1_score(y_test, y_rand_entropy_pred)\n",
    "\n",
    "performance = pd.DataFrame(data = [['Random Forest (n_estimation = 100) Entropy', rand_entropy_acc, rand_entropy_precision, rand_entropy_recall, rand_entropy_f1]], columns= ['Model', 'Accuracy', 'Precision', 'Recall', 'F1 Score'])\n",
    "performance"
   ]
  },
  {
   "cell_type": "code",
   "execution_count": 16,
   "id": "arabic-porter",
   "metadata": {},
   "outputs": [
    {
     "name": "stderr",
     "output_type": "stream",
     "text": [
      "C:\\Users\\91983\\Anaconda3\\lib\\site-packages\\sklearn\\model_selection\\_search.py:880: DataConversionWarning: A column-vector y was passed when a 1d array was expected. Please change the shape of y to (n_samples,), for example using ravel().\n",
      "  self.best_estimator_.fit(X, y, **fit_params)\n"
     ]
    },
    {
     "name": "stdout",
     "output_type": "stream",
     "text": [
      "Time taken for Model Training: 645.8046817779541\n",
      "0.6352087481686354 {'bootstrap': False, 'criterion': 'gini', 'max_depth': None, 'max_features': 4, 'min_samples_leaf': 10, 'min_samples_split': 2}\n"
     ]
    }
   ],
   "source": [
    "# Creating Parameter dictionary with experimenting values\n",
    "# We will use Entropy Criterion for this execution\n",
    "param_grid = {\"max_depth\" : [3,None],\n",
    "             \"max_features\" : [4,5,6],\n",
    "             \"min_samples_split\" : [2,5,10],\n",
    "             \"min_samples_leaf\" : [1,5,10],\n",
    "             \"bootstrap\" : [True, False],\n",
    "             \"criterion\" : [\"gini\"]}\n",
    "\n",
    "\n",
    "# Creating Grid Search Object with required Parameters\n",
    "grid_search = GridSearchCV(estimator= classifier, param_grid= param_grid, scoring= \"accuracy\", cv = 5, n_jobs= -1)\n",
    "\n",
    "# Running Grid Search and Fitting our model to train data\n",
    "start_time = time.time()\n",
    "grid_search = grid_search.fit(X_train, y_train)\n",
    "end_time = time.time()\n",
    "\n",
    "# Evaluating the time take to run through all combinations\n",
    "print(f\"Time taken for Model Training: {end_time - start_time}\")\n",
    "\n",
    "# Capturing the best features and best score\n",
    "rf_best_score = grid_search.best_score_\n",
    "rf_best_param = grid_search.best_params_\n",
    "\n",
    "print(rf_best_score, rf_best_param)"
   ]
  },
  {
   "cell_type": "code",
   "execution_count": 17,
   "id": "reverse-range",
   "metadata": {},
   "outputs": [
    {
     "name": "stderr",
     "output_type": "stream",
     "text": [
      "C:\\Users\\91983\\Anaconda3\\lib\\site-packages\\ipykernel_launcher.py:3: DataConversionWarning: A column-vector y was passed when a 1d array was expected. Please change the shape of y to (n_samples,), for example using ravel().\n",
      "  This is separate from the ipykernel package so we can avoid doing imports until\n"
     ]
    },
    {
     "data": {
      "text/html": [
       "<div>\n",
       "<style scoped>\n",
       "    .dataframe tbody tr th:only-of-type {\n",
       "        vertical-align: middle;\n",
       "    }\n",
       "\n",
       "    .dataframe tbody tr th {\n",
       "        vertical-align: top;\n",
       "    }\n",
       "\n",
       "    .dataframe thead th {\n",
       "        text-align: right;\n",
       "    }\n",
       "</style>\n",
       "<table border=\"1\" class=\"dataframe\">\n",
       "  <thead>\n",
       "    <tr style=\"text-align: right;\">\n",
       "      <th></th>\n",
       "      <th>Model</th>\n",
       "      <th>Accuracy</th>\n",
       "      <th>Precision</th>\n",
       "      <th>Recall</th>\n",
       "      <th>F1 Score</th>\n",
       "    </tr>\n",
       "  </thead>\n",
       "  <tbody>\n",
       "    <tr>\n",
       "      <th>0</th>\n",
       "      <td>Random Forest (n_estimation = 100) Entropy</td>\n",
       "      <td>0.633724</td>\n",
       "      <td>0.645146</td>\n",
       "      <td>0.710062</td>\n",
       "      <td>0.676049</td>\n",
       "    </tr>\n",
       "    <tr>\n",
       "      <th>0</th>\n",
       "      <td>Random Forest (n_estimation = 100) Gini</td>\n",
       "      <td>0.635678</td>\n",
       "      <td>0.647841</td>\n",
       "      <td>0.707988</td>\n",
       "      <td>0.676580</td>\n",
       "    </tr>\n",
       "  </tbody>\n",
       "</table>\n",
       "</div>"
      ],
      "text/plain": [
       "                                        Model  Accuracy  Precision    Recall  \\\n",
       "0  Random Forest (n_estimation = 100) Entropy  0.633724   0.645146  0.710062   \n",
       "0     Random Forest (n_estimation = 100) Gini  0.635678   0.647841  0.707988   \n",
       "\n",
       "   F1 Score  \n",
       "0  0.676049  \n",
       "0  0.676580  "
      ]
     },
     "execution_count": 17,
     "metadata": {},
     "output_type": "execute_result"
    }
   ],
   "source": [
    "## Training the instance with hyper parameters selected as Best Param using grid search\n",
    "rand_gini_best_model = RandomForestClassifier(n_estimators= 100, bootstrap = False, criterion = 'gini', max_depth = None, max_features = 4, min_samples_leaf = 10, min_samples_split = 2)\n",
    "rand_gini_best_model.fit(X_train,y_train)\n",
    "\n",
    "# Using trained model to predict our Training Data\n",
    "y_rand_gini_pred = rand_gini_best_model.predict(X_test)\n",
    "\n",
    "# Evaluating the performance of our prediction\n",
    "rand_gini_acc = accuracy_score(y_test, y_rand_gini_pred)\n",
    "rand_gini_precision = precision_score(y_test, y_rand_gini_pred)\n",
    "rand_gini_recall = recall_score(y_test, y_rand_gini_pred)\n",
    "rand_gini_f1 = f1_score(y_test, y_rand_gini_pred)\n",
    "\n",
    "performance = performance.append(pd.DataFrame(data = [['Random Forest (n_estimation = 100) Gini', rand_gini_acc, rand_gini_precision, rand_gini_recall, rand_gini_f1]], columns= ['Model', 'Accuracy', 'Precision', 'Recall', 'F1 Score']))\n",
    "performance"
   ]
  },
  {
   "cell_type": "markdown",
   "id": "informal-convenience",
   "metadata": {},
   "source": [
    "## We can see that using Precision with evaluated parameters provides us the Best Model for prediction\n",
    "## Hence we will use the same for our model creation"
   ]
  }
 ],
 "metadata": {
  "kernelspec": {
   "display_name": "Python 3",
   "language": "python",
   "name": "python3"
  },
  "language_info": {
   "codemirror_mode": {
    "name": "ipython",
    "version": 3
   },
   "file_extension": ".py",
   "mimetype": "text/x-python",
   "name": "python",
   "nbconvert_exporter": "python",
   "pygments_lexer": "ipython3",
   "version": "3.7.1"
  }
 },
 "nbformat": 4,
 "nbformat_minor": 5
}
