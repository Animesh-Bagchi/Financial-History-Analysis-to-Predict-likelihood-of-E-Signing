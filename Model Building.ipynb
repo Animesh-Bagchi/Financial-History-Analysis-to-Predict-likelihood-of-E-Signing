{
 "cells": [
  {
   "cell_type": "code",
   "execution_count": 36,
   "id": "noble-frequency",
   "metadata": {},
   "outputs": [],
   "source": [
    "import pandas as pd\n",
    "import numpy as np\n",
    "\n",
    "# Our Business Use case is a Classification Problem Statement\n",
    "# Importing necessary evaluation metric modules\n",
    "from sklearn.metrics import accuracy_score, confusion_matrix, f1_score, precision_score, recall_score"
   ]
  },
  {
   "cell_type": "code",
   "execution_count": 37,
   "id": "classified-salmon",
   "metadata": {},
   "outputs": [],
   "source": [
    "# Loading the clean and scaled data into our dataframes\n",
    "X_train = pd.read_csv(\"xtrain.csv\")\n",
    "X_test = pd.read_csv(\"xtest.csv\")\n",
    "y_train = pd.read_csv(\"ytrain.csv\")\n",
    "y_test = pd.read_csv(\"ytest.csv\")"
   ]
  },
  {
   "cell_type": "markdown",
   "id": "equivalent-circular",
   "metadata": {},
   "source": [
    "## Model Building"
   ]
  },
  {
   "cell_type": "markdown",
   "id": "simple-turkish",
   "metadata": {},
   "source": [
    "### Logistic Regression"
   ]
  },
  {
   "cell_type": "code",
   "execution_count": 38,
   "id": "sticky-nickel",
   "metadata": {},
   "outputs": [
    {
     "name": "stderr",
     "output_type": "stream",
     "text": [
      "C:\\Users\\91983\\Anaconda3\\lib\\site-packages\\sklearn\\utils\\validation.py:63: DataConversionWarning: A column-vector y was passed when a 1d array was expected. Please change the shape of y to (n_samples, ), for example using ravel().\n",
      "  return f(*args, **kwargs)\n"
     ]
    },
    {
     "data": {
      "text/html": [
       "<div>\n",
       "<style scoped>\n",
       "    .dataframe tbody tr th:only-of-type {\n",
       "        vertical-align: middle;\n",
       "    }\n",
       "\n",
       "    .dataframe tbody tr th {\n",
       "        vertical-align: top;\n",
       "    }\n",
       "\n",
       "    .dataframe thead th {\n",
       "        text-align: right;\n",
       "    }\n",
       "</style>\n",
       "<table border=\"1\" class=\"dataframe\">\n",
       "  <thead>\n",
       "    <tr style=\"text-align: right;\">\n",
       "      <th></th>\n",
       "      <th>Model</th>\n",
       "      <th>Accuracy</th>\n",
       "      <th>Precision</th>\n",
       "      <th>Recall</th>\n",
       "      <th>F1 Score</th>\n",
       "    </tr>\n",
       "  </thead>\n",
       "  <tbody>\n",
       "    <tr>\n",
       "      <th>0</th>\n",
       "      <td>Lasso Model</td>\n",
       "      <td>0.570631</td>\n",
       "      <td>0.58312</td>\n",
       "      <td>0.709544</td>\n",
       "      <td>0.64015</td>\n",
       "    </tr>\n",
       "  </tbody>\n",
       "</table>\n",
       "</div>"
      ],
      "text/plain": [
       "         Model  Accuracy  Precision    Recall  F1 Score\n",
       "0  Lasso Model  0.570631    0.58312  0.709544   0.64015"
      ]
     },
     "execution_count": 38,
     "metadata": {},
     "output_type": "execute_result"
    }
   ],
   "source": [
    "# Importing Logistic Regression package\n",
    "from sklearn.linear_model import LogisticRegression\n",
    "\n",
    "# Creating LogisticRegression Class Object and fitting our Training Instances\n",
    "log_clf = LogisticRegression(penalty= 'l2') # Using Ridge Regularization to penalize colinear and high parameter features\n",
    "log_clf.fit(X_train, y_train)\n",
    "\n",
    "# Using trained model to predict our Training Data\n",
    "y_pred_log = log_clf.predict(X_test)\n",
    "\n",
    "# Evaluating the performance of our prediction using Logistic Regression\n",
    "log_clf_acc = accuracy_score(y_test, y_pred_log)\n",
    "log_clf_precision = precision_score(y_test, y_pred_log)\n",
    "log_clf_recall = recall_score(y_test, y_pred_log)\n",
    "log_clf_f1 = f1_score(y_test, y_pred_log)\n",
    "\n",
    "# Since we will using multiple models, we will create a Dataframe to store each models performance\n",
    "\n",
    "performance = pd.DataFrame(data = [['Lasso Model', log_clf_acc, log_clf_precision, log_clf_recall, log_clf_f1]], columns= ['Model', 'Accuracy', 'Precision', 'Recall', 'F1 Score'])\n",
    "performance"
   ]
  },
  {
   "cell_type": "markdown",
   "id": "dynamic-anchor",
   "metadata": {},
   "source": [
    "### Support Vector Classifier"
   ]
  },
  {
   "cell_type": "code",
   "execution_count": 39,
   "id": "subtle-belief",
   "metadata": {},
   "outputs": [
    {
     "name": "stderr",
     "output_type": "stream",
     "text": [
      "C:\\Users\\91983\\Anaconda3\\lib\\site-packages\\sklearn\\utils\\validation.py:63: DataConversionWarning: A column-vector y was passed when a 1d array was expected. Please change the shape of y to (n_samples, ), for example using ravel().\n",
      "  return f(*args, **kwargs)\n"
     ]
    },
    {
     "data": {
      "text/html": [
       "<div>\n",
       "<style scoped>\n",
       "    .dataframe tbody tr th:only-of-type {\n",
       "        vertical-align: middle;\n",
       "    }\n",
       "\n",
       "    .dataframe tbody tr th {\n",
       "        vertical-align: top;\n",
       "    }\n",
       "\n",
       "    .dataframe thead th {\n",
       "        text-align: right;\n",
       "    }\n",
       "</style>\n",
       "<table border=\"1\" class=\"dataframe\">\n",
       "  <thead>\n",
       "    <tr style=\"text-align: right;\">\n",
       "      <th></th>\n",
       "      <th>Model</th>\n",
       "      <th>Accuracy</th>\n",
       "      <th>Precision</th>\n",
       "      <th>Recall</th>\n",
       "      <th>F1 Score</th>\n",
       "    </tr>\n",
       "  </thead>\n",
       "  <tbody>\n",
       "    <tr>\n",
       "      <th>0</th>\n",
       "      <td>Lasso Model</td>\n",
       "      <td>0.570631</td>\n",
       "      <td>0.583120</td>\n",
       "      <td>0.709544</td>\n",
       "      <td>0.64015</td>\n",
       "    </tr>\n",
       "    <tr>\n",
       "      <th>0</th>\n",
       "      <td>Support Vector Classifier (Linear)</td>\n",
       "      <td>0.573143</td>\n",
       "      <td>0.583299</td>\n",
       "      <td>0.724585</td>\n",
       "      <td>0.64631</td>\n",
       "    </tr>\n",
       "  </tbody>\n",
       "</table>\n",
       "</div>"
      ],
      "text/plain": [
       "                                Model  Accuracy  Precision    Recall  F1 Score\n",
       "0                         Lasso Model  0.570631   0.583120  0.709544   0.64015\n",
       "0  Support Vector Classifier (Linear)  0.573143   0.583299  0.724585   0.64631"
      ]
     },
     "execution_count": 39,
     "metadata": {},
     "output_type": "execute_result"
    }
   ],
   "source": [
    "# Importing Support Vector Classfier package\n",
    "from sklearn.svm import SVC\n",
    "\n",
    "# Creating Support Vector Class Object and fitting our Training Instances\n",
    "svc_clf = SVC(kernel= 'linear') # Using linear Kernel to project data into higher dimension to create best fitted hyperplane\n",
    "svc_clf.fit(X_train, y_train)\n",
    "\n",
    "# Using trained model to predict our Training Data\n",
    "y_pred_svc = svc_clf.predict(X_test)\n",
    "\n",
    "# Evaluating the performance of our prediction using Logistic Regression\n",
    "svc_clf_acc = accuracy_score(y_test, y_pred_svc)\n",
    "svc_clf_precision = precision_score(y_test, y_pred_svc)\n",
    "svc_clf_recall = recall_score(y_test, y_pred_svc)\n",
    "svc_clf_f1 = f1_score(y_test, y_pred_svc)\n",
    "\n",
    "# Since we will using multiple models, we will create a Dataframe to store each models performance\n",
    "\n",
    "performance = performance.append(pd.DataFrame(data = [['Support Vector Classifier (Linear)', svc_clf_acc, svc_clf_precision, svc_clf_recall, svc_clf_f1]], columns= ['Model', 'Accuracy', 'Precision', 'Recall', 'F1 Score']))\n",
    "performance"
   ]
  },
  {
   "cell_type": "markdown",
   "id": "understood-croatia",
   "metadata": {},
   "source": [
    "#### Using SVC rbf kernel to evalute model performance"
   ]
  },
  {
   "cell_type": "code",
   "execution_count": 40,
   "id": "baking-firewall",
   "metadata": {},
   "outputs": [
    {
     "name": "stderr",
     "output_type": "stream",
     "text": [
      "C:\\Users\\91983\\Anaconda3\\lib\\site-packages\\sklearn\\utils\\validation.py:63: DataConversionWarning: A column-vector y was passed when a 1d array was expected. Please change the shape of y to (n_samples, ), for example using ravel().\n",
      "  return f(*args, **kwargs)\n"
     ]
    },
    {
     "data": {
      "text/html": [
       "<div>\n",
       "<style scoped>\n",
       "    .dataframe tbody tr th:only-of-type {\n",
       "        vertical-align: middle;\n",
       "    }\n",
       "\n",
       "    .dataframe tbody tr th {\n",
       "        vertical-align: top;\n",
       "    }\n",
       "\n",
       "    .dataframe thead th {\n",
       "        text-align: right;\n",
       "    }\n",
       "</style>\n",
       "<table border=\"1\" class=\"dataframe\">\n",
       "  <thead>\n",
       "    <tr style=\"text-align: right;\">\n",
       "      <th></th>\n",
       "      <th>Model</th>\n",
       "      <th>Accuracy</th>\n",
       "      <th>Precision</th>\n",
       "      <th>Recall</th>\n",
       "      <th>F1 Score</th>\n",
       "    </tr>\n",
       "  </thead>\n",
       "  <tbody>\n",
       "    <tr>\n",
       "      <th>0</th>\n",
       "      <td>Lasso Model</td>\n",
       "      <td>0.570631</td>\n",
       "      <td>0.583120</td>\n",
       "      <td>0.709544</td>\n",
       "      <td>0.640150</td>\n",
       "    </tr>\n",
       "    <tr>\n",
       "      <th>0</th>\n",
       "      <td>Support Vector Classifier (Linear)</td>\n",
       "      <td>0.573143</td>\n",
       "      <td>0.583299</td>\n",
       "      <td>0.724585</td>\n",
       "      <td>0.646310</td>\n",
       "    </tr>\n",
       "    <tr>\n",
       "      <th>0</th>\n",
       "      <td>Support Vector Classifier (RBF)</td>\n",
       "      <td>0.608878</td>\n",
       "      <td>0.621485</td>\n",
       "      <td>0.699170</td>\n",
       "      <td>0.658042</td>\n",
       "    </tr>\n",
       "  </tbody>\n",
       "</table>\n",
       "</div>"
      ],
      "text/plain": [
       "                                Model  Accuracy  Precision    Recall  F1 Score\n",
       "0                         Lasso Model  0.570631   0.583120  0.709544  0.640150\n",
       "0  Support Vector Classifier (Linear)  0.573143   0.583299  0.724585  0.646310\n",
       "0     Support Vector Classifier (RBF)  0.608878   0.621485  0.699170  0.658042"
      ]
     },
     "execution_count": 40,
     "metadata": {},
     "output_type": "execute_result"
    }
   ],
   "source": [
    "# Creating LogisticRegression Class Object and fitting our Training Instances\n",
    "svc_rbf_clf = SVC(kernel= 'rbf') # Using linear Kernel to project data into higher dimension to create best fitted hyperplane\n",
    "svc_rbf_clf.fit(X_train, y_train)\n",
    "\n",
    "# Using trained model to predict our Training Data\n",
    "y_pred_svc_rbf = svc_rbf_clf.predict(X_test)\n",
    "\n",
    "# Evaluating the performance of our prediction using Logistic Regression\n",
    "svc_rbf_clf_acc = accuracy_score(y_test, y_pred_svc_rbf)\n",
    "svc_rbf_clf_precision = precision_score(y_test, y_pred_svc_rbf)\n",
    "svc_rbf_clf_recall = recall_score(y_test, y_pred_svc_rbf)\n",
    "svc_rbf_clf_f1 = f1_score(y_test, y_pred_svc_rbf)\n",
    "\n",
    "# Since we will using multiple models, we will create a Dataframe to store each models performance\n",
    "\n",
    "performance = performance.append(pd.DataFrame(data = [['Support Vector Classifier (RBF)', svc_rbf_clf_acc, svc_rbf_clf_precision, svc_rbf_clf_recall, svc_rbf_clf_f1]], columns= ['Model', 'Accuracy', 'Precision', 'Recall', 'F1 Score']))\n",
    "performance"
   ]
  },
  {
   "cell_type": "markdown",
   "id": "operational-assistant",
   "metadata": {},
   "source": [
    "### Random Forest Classifier"
   ]
  },
  {
   "cell_type": "code",
   "execution_count": 41,
   "id": "superb-baseball",
   "metadata": {},
   "outputs": [
    {
     "name": "stderr",
     "output_type": "stream",
     "text": [
      "C:\\Users\\91983\\Anaconda3\\lib\\site-packages\\ipykernel_launcher.py:7: DataConversionWarning: A column-vector y was passed when a 1d array was expected. Please change the shape of y to (n_samples,), for example using ravel().\n",
      "  import sys\n"
     ]
    },
    {
     "data": {
      "text/html": [
       "<div>\n",
       "<style scoped>\n",
       "    .dataframe tbody tr th:only-of-type {\n",
       "        vertical-align: middle;\n",
       "    }\n",
       "\n",
       "    .dataframe tbody tr th {\n",
       "        vertical-align: top;\n",
       "    }\n",
       "\n",
       "    .dataframe thead th {\n",
       "        text-align: right;\n",
       "    }\n",
       "</style>\n",
       "<table border=\"1\" class=\"dataframe\">\n",
       "  <thead>\n",
       "    <tr style=\"text-align: right;\">\n",
       "      <th></th>\n",
       "      <th>Model</th>\n",
       "      <th>Accuracy</th>\n",
       "      <th>Precision</th>\n",
       "      <th>Recall</th>\n",
       "      <th>F1 Score</th>\n",
       "    </tr>\n",
       "  </thead>\n",
       "  <tbody>\n",
       "    <tr>\n",
       "      <th>0</th>\n",
       "      <td>Lasso Model</td>\n",
       "      <td>0.570631</td>\n",
       "      <td>0.583120</td>\n",
       "      <td>0.709544</td>\n",
       "      <td>0.640150</td>\n",
       "    </tr>\n",
       "    <tr>\n",
       "      <th>0</th>\n",
       "      <td>Support Vector Classifier (Linear)</td>\n",
       "      <td>0.573143</td>\n",
       "      <td>0.583299</td>\n",
       "      <td>0.724585</td>\n",
       "      <td>0.646310</td>\n",
       "    </tr>\n",
       "    <tr>\n",
       "      <th>0</th>\n",
       "      <td>Support Vector Classifier (RBF)</td>\n",
       "      <td>0.608878</td>\n",
       "      <td>0.621485</td>\n",
       "      <td>0.699170</td>\n",
       "      <td>0.658042</td>\n",
       "    </tr>\n",
       "    <tr>\n",
       "      <th>0</th>\n",
       "      <td>Random Forest Classifier (n = 100)</td>\n",
       "      <td>0.620882</td>\n",
       "      <td>0.639432</td>\n",
       "      <td>0.677905</td>\n",
       "      <td>0.658107</td>\n",
       "    </tr>\n",
       "  </tbody>\n",
       "</table>\n",
       "</div>"
      ],
      "text/plain": [
       "                                Model  Accuracy  Precision    Recall  F1 Score\n",
       "0                         Lasso Model  0.570631   0.583120  0.709544  0.640150\n",
       "0  Support Vector Classifier (Linear)  0.573143   0.583299  0.724585  0.646310\n",
       "0     Support Vector Classifier (RBF)  0.608878   0.621485  0.699170  0.658042\n",
       "0  Random Forest Classifier (n = 100)  0.620882   0.639432  0.677905  0.658107"
      ]
     },
     "execution_count": 41,
     "metadata": {},
     "output_type": "execute_result"
    }
   ],
   "source": [
    "# Importing Random Forest Classfier package\n",
    "from sklearn.ensemble import RandomForestClassifier\n",
    "\n",
    "# Creating Random Forest Class Object and fitting our Training Instances\n",
    "# We will be creating 100 decision trees and criterion as Entropy for Random Forest\n",
    "rand_clf = RandomForestClassifier(n_estimators= 100, criterion= 'entropy')\n",
    "rand_clf.fit(X_train, y_train)\n",
    "\n",
    "# Using trained model to predict our Training Data\n",
    "y_pred_rand = rand_clf.predict(X_test)\n",
    "\n",
    "# Evaluating the performance of our prediction using Logistic Regression\n",
    "rand_clf_acc = accuracy_score(y_test, y_pred_rand)\n",
    "rand_clf_precision = precision_score(y_test, y_pred_rand)\n",
    "rand_clf_recall = recall_score(y_test, y_pred_rand)\n",
    "rand_clf_f1 = f1_score(y_test, y_pred_rand)\n",
    "\n",
    "# Since we will using multiple models, we will create a Dataframe to store each models performance\n",
    "\n",
    "performance = performance.append(pd.DataFrame(data = [['Random Forest Classifier (n = 100)', rand_clf_acc, rand_clf_precision, rand_clf_recall, rand_clf_f1]], columns= ['Model', 'Accuracy', 'Precision', 'Recall', 'F1 Score']))\n",
    "performance"
   ]
  },
  {
   "cell_type": "markdown",
   "id": "neutral-summer",
   "metadata": {},
   "source": [
    "#### From the above comparison we can see Random Forest is performing better than the other classifier models\n",
    "#### We will use K Folder Cross Validation on Random Forest for further Model Building"
   ]
  },
  {
   "cell_type": "code",
   "execution_count": 43,
   "id": "direct-elements",
   "metadata": {},
   "outputs": [
    {
     "name": "stderr",
     "output_type": "stream",
     "text": [
      "C:\\Users\\91983\\Anaconda3\\lib\\site-packages\\sklearn\\model_selection\\_validation.py:598: DataConversionWarning: A column-vector y was passed when a 1d array was expected. Please change the shape of y to (n_samples,), for example using ravel().\n",
      "  estimator.fit(X_train, y_train, **fit_params)\n",
      "C:\\Users\\91983\\Anaconda3\\lib\\site-packages\\sklearn\\model_selection\\_validation.py:598: DataConversionWarning: A column-vector y was passed when a 1d array was expected. Please change the shape of y to (n_samples,), for example using ravel().\n",
      "  estimator.fit(X_train, y_train, **fit_params)\n",
      "C:\\Users\\91983\\Anaconda3\\lib\\site-packages\\sklearn\\model_selection\\_validation.py:598: DataConversionWarning: A column-vector y was passed when a 1d array was expected. Please change the shape of y to (n_samples,), for example using ravel().\n",
      "  estimator.fit(X_train, y_train, **fit_params)\n",
      "C:\\Users\\91983\\Anaconda3\\lib\\site-packages\\sklearn\\model_selection\\_validation.py:598: DataConversionWarning: A column-vector y was passed when a 1d array was expected. Please change the shape of y to (n_samples,), for example using ravel().\n",
      "  estimator.fit(X_train, y_train, **fit_params)\n",
      "C:\\Users\\91983\\Anaconda3\\lib\\site-packages\\sklearn\\model_selection\\_validation.py:598: DataConversionWarning: A column-vector y was passed when a 1d array was expected. Please change the shape of y to (n_samples,), for example using ravel().\n",
      "  estimator.fit(X_train, y_train, **fit_params)\n",
      "C:\\Users\\91983\\Anaconda3\\lib\\site-packages\\sklearn\\model_selection\\_validation.py:598: DataConversionWarning: A column-vector y was passed when a 1d array was expected. Please change the shape of y to (n_samples,), for example using ravel().\n",
      "  estimator.fit(X_train, y_train, **fit_params)\n",
      "C:\\Users\\91983\\Anaconda3\\lib\\site-packages\\sklearn\\model_selection\\_validation.py:598: DataConversionWarning: A column-vector y was passed when a 1d array was expected. Please change the shape of y to (n_samples,), for example using ravel().\n",
      "  estimator.fit(X_train, y_train, **fit_params)\n",
      "C:\\Users\\91983\\Anaconda3\\lib\\site-packages\\sklearn\\model_selection\\_validation.py:598: DataConversionWarning: A column-vector y was passed when a 1d array was expected. Please change the shape of y to (n_samples,), for example using ravel().\n",
      "  estimator.fit(X_train, y_train, **fit_params)\n",
      "C:\\Users\\91983\\Anaconda3\\lib\\site-packages\\sklearn\\model_selection\\_validation.py:598: DataConversionWarning: A column-vector y was passed when a 1d array was expected. Please change the shape of y to (n_samples,), for example using ravel().\n",
      "  estimator.fit(X_train, y_train, **fit_params)\n",
      "C:\\Users\\91983\\Anaconda3\\lib\\site-packages\\sklearn\\model_selection\\_validation.py:598: DataConversionWarning: A column-vector y was passed when a 1d array was expected. Please change the shape of y to (n_samples,), for example using ravel().\n",
      "  estimator.fit(X_train, y_train, **fit_params)\n"
     ]
    },
    {
     "name": "stdout",
     "output_type": "stream",
     "text": [
      "Mean Accuracy : 0.6297668777070411 with Standard deviation of (+/-)0.02381602217080276\n"
     ]
    }
   ],
   "source": [
    "# Importing K Fold Cross Validation\n",
    "from sklearn.model_selection import cross_val_score\n",
    "\n",
    "# Creating Object with 10 K folder iteration\n",
    "accuracies = cross_val_score(estimator= rand_clf, X = X_train, y = y_train, cv = 10)\n",
    "\n",
    "# Printing the average score and Standard deviation for each cross validation performed\n",
    "print(f\"Mean Accuracy : {accuracies.mean()} with Standard deviation of (+/-){accuracies.std()*2}\")"
   ]
  },
  {
   "cell_type": "markdown",
   "id": "representative-green",
   "metadata": {},
   "source": [
    "## From the Cross Validation we can see Random Forest performs best amoung the selected Other Classifier Algorithms and hence we will use Random Forest for our model building."
   ]
  }
 ],
 "metadata": {
  "kernelspec": {
   "display_name": "Python 3",
   "language": "python",
   "name": "python3"
  },
  "language_info": {
   "codemirror_mode": {
    "name": "ipython",
    "version": 3
   },
   "file_extension": ".py",
   "mimetype": "text/x-python",
   "name": "python",
   "nbconvert_exporter": "python",
   "pygments_lexer": "ipython3",
   "version": "3.7.1"
  }
 },
 "nbformat": 4,
 "nbformat_minor": 5
}
